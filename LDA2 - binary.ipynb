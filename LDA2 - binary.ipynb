{
 "cells": [
  {
   "cell_type": "code",
   "execution_count": 1,
   "metadata": {},
   "outputs": [],
   "source": [
    "import scipy.io as sp\n",
    "import numpy as np\n",
    "from sklearn.discriminant_analysis import LinearDiscriminantAnalysis as LDA\n",
    "from sklearn import preprocessing\n",
    "from sklearn import svm\n",
    "from sklearn.metrics import accuracy_score\n",
    "from functions import *\n",
    "import matplotlib.pyplot as plt"
   ]
  },
  {
   "cell_type": "code",
   "execution_count": 17,
   "metadata": {},
   "outputs": [
    {
     "name": "stdout",
     "output_type": "stream",
     "text": [
      "0.7424855491329481\n"
     ]
    }
   ],
   "source": [
    "acc = cross_validation(matrix, cat_labels)\n",
    "print(acc)"
   ]
  },
  {
   "cell_type": "code",
   "execution_count": null,
   "metadata": {},
   "outputs": [],
   "source": [
    "linear_clf = svm.SVC(kernel = 'linear',verbose = True)\n",
    "x_train, y_train, x_test, y_test = split_sampling2D(matrix, cat_labels)\n",
    "linear_clf.fit(x_train, y_train)\n",
    "linear_svm_pred = linear_clf.predict(x_test)\n",
    "accuracy_score(linear_svm_pred,y_test)"
   ]
  },
  {
   "cell_type": "code",
   "execution_count": 14,
   "metadata": {},
   "outputs": [
    {
     "name": "stdout",
     "output_type": "stream",
     "text": [
      "(5,)\n"
     ]
    }
   ],
   "source": [
    "print(np.array(class_wise_xtrain).shape)"
   ]
  },
  {
   "cell_type": "code",
   "execution_count": 32,
   "metadata": {},
   "outputs": [],
   "source": [
    "acc1 = cross_validation_with_augmentation(matrix,cat_labels,sample_size = 2, with_replacement = True, k = 0.6, niter = 10)"
   ]
  },
  {
   "cell_type": "code",
   "execution_count": 33,
   "metadata": {},
   "outputs": [
    {
     "data": {
      "text/plain": [
       "0.8291907514450868"
      ]
     },
     "execution_count": 33,
     "metadata": {},
     "output_type": "execute_result"
    }
   ],
   "source": [
    "acc1"
   ]
  },
  {
   "cell_type": "code",
   "execution_count": 34,
   "metadata": {},
   "outputs": [],
   "source": [
    "sam_sizes = [2,4,6,8]\n",
    "acc_mat = []\n",
    "for size in sam_sizes:\n",
    "    acc1 = cross_validation_with_augmentation(matrix,cat_labels,sample_size = size, with_replacement = True, k = 0.8, niter = 10)\n",
    "    acc2 = cross_validation_with_augmentation(matrix,cat_labels,sample_size = size, with_replacement = False, k = 0.8, niter = 10)\n",
    "    acc_mat.append([acc1,acc2])"
   ]
  },
  {
   "cell_type": "code",
   "execution_count": 35,
   "metadata": {},
   "outputs": [
    {
     "data": {
      "text/plain": [
       "[[0.8286127167630057, 0.8211755612313484],\n",
       " [0.9193641618497109, 0.8858002735978111],\n",
       " [0.9549132947976879, 0.9368421052631579],\n",
       " [0.9641618497109826, 0.9601328903654485]]"
      ]
     },
     "execution_count": 35,
     "metadata": {},
     "output_type": "execute_result"
    }
   ],
   "source": [
    "acc_mat"
   ]
  },
  {
   "cell_type": "code",
   "execution_count": 5,
   "metadata": {},
   "outputs": [],
   "source": [
    "electrode, matrix, cat_labels = load_data_binary('S10.mat')\n",
    "chan_acc = time_wise(electrode, cat_labels)"
   ]
  },
  {
   "cell_type": "code",
   "execution_count": 6,
   "metadata": {},
   "outputs": [
    {
     "data": {
      "text/plain": [
       "[<matplotlib.lines.Line2D at 0x1e1339d0d68>]"
      ]
     },
     "execution_count": 6,
     "metadata": {},
     "output_type": "execute_result"
    },
    {
     "data": {
      "image/png": "[encoded data removed]",
      "text/plain": [
       "<Figure size 432x288 with 1 Axes>"
      ]
     },
     "metadata": {},
     "output_type": "display_data"
    }
   ],
   "source": [
    "plt.plot(chan_acc)"
   ]
  },
  {
   "cell_type": "code",
   "execution_count": null,
   "metadata": {},
   "outputs": [],
   "source": [
    "acc_main = []\n",
    "acc_augment = []\n",
    "acc_channel_wise = []\n",
    "acc_channel_wise_aug = []\n",
    "for i in range(10):\n",
    "    file_name = 'S' + str(i+1) + '.mat'\n",
    "    electrode, matrix, cat_labels = load_data_binary(file_name)\n",
    "    \n",
    "    acc_main.append(cross_validation(matrix, cat_labels, niter = 8))\n",
    "    \n",
    "    acc_mat = run_cross_val_with_aug(matrix, cat_labels, niter = 8, k = 0.8)\n",
    "    acc_augment.append(acc_mat)\n",
    "    \n",
    "    acc_chan, acc_chan_aug = channel_wise(electrode, cat_labels)\n",
    "    \n",
    "    acc_channel_wise.append(acc_chan)\n",
    "    acc_channel_wise_aug.append(acc_chan_aug)\n",
    "    "
   ]
  },
  {
   "cell_type": "code",
   "execution_count": 3,
   "metadata": {},
   "outputs": [
    {
     "name": "stdout",
     "output_type": "stream",
     "text": [
      "[0.7471098265895953, 0.7702312138728324]\n"
     ]
    }
   ],
   "source": [
    "print(acc_main)"
   ]
  },
  {
   "cell_type": "code",
   "execution_count": 4,
   "metadata": {},
   "outputs": [
    {
     "name": "stdout",
     "output_type": "stream",
     "text": [
      "[[[0.8179190751445087, 0.8464343325715822], [0.9335260115606936, 0.8662790697674418], [0.9407514450867052, 0.9379699248120301], [0.9754335260115607, 0.941029900332226]], [[0.8049132947976878, 0.7877906976744187], [0.9291907514450867, 0.8364569083447333], [0.9436416184971098, 0.9385964912280702], [0.976878612716763, 0.9761904761904762]]]\n"
     ]
    }
   ],
   "source": [
    "print(acc_augment)"
   ]
  },
  {
   "cell_type": "code",
   "execution_count": null,
   "metadata": {},
   "outputs": [],
   "source": []
  }
 ],
 "metadata": {
  "kernelspec": {
   "display_name": "Python 3",
   "language": "python",
   "name": "python3"
  },
  "language_info": {
   "codemirror_mode": {
    "name": "ipython",
    "version": 3
   },
   "file_extension": ".py",
   "mimetype": "text/x-python",
   "name": "python",
   "nbconvert_exporter": "python",
   "pygments_lexer": "ipython3",
   "version": "3.6.5"
  }
 },
 "nbformat": 4,
 "nbformat_minor": 2
}
