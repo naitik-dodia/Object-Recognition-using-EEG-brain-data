{
 "cells": [
  {
   "cell_type": "code",
   "execution_count": 1,
   "metadata": {},
   "outputs": [],
   "source": [
    "import scipy.io as sp\n",
    "import numpy as np\n",
    "from sklearn.discriminant_analysis import LinearDiscriminantAnalysis as LDA\n",
    "from sklearn import preprocessing\n",
    "from sklearn import svm\n",
    "from sklearn.metrics import accuracy_score\n",
    "from functions import *"
   ]
  },
  {
   "cell_type": "code",
   "execution_count": 18,
   "metadata": {},
   "outputs": [
    {
     "name": "stdout",
     "output_type": "stream",
     "text": [
      "dict_keys(['__header__', '__version__', '__globals__', 'sub', 'Fs', 'N', 'T', 'exemplarLabels', 'categoryLabels', 'X_2D', 'X_3D'])\n"
     ]
    }
   ],
   "source": [
    "data = sp.loadmat('S1.mat')\n",
    "print(data.keys())"
   ]
  },
  {
   "cell_type": "code",
   "execution_count": 19,
   "metadata": {},
   "outputs": [
    {
     "name": "stdout",
     "output_type": "stream",
     "text": [
      "(1, 5188)\n"
     ]
    }
   ],
   "source": [
    "print(data['exemplarLabels'].shape)"
   ]
  },
  {
   "cell_type": "code",
   "execution_count": 20,
   "metadata": {},
   "outputs": [
    {
     "name": "stdout",
     "output_type": "stream",
     "text": [
      "[4 6 3 ... 5 1 1]\n"
     ]
    }
   ],
   "source": [
    "lab = data['categoryLabels'].transpose()\n",
    "lab = np.reshape(lab, (lab.shape[0]*lab.shape[1]))\n",
    "print(lab)"
   ]
  },
  {
   "cell_type": "code",
   "execution_count": 21,
   "metadata": {},
   "outputs": [],
   "source": [
    "matrix = data['X_3D'].transpose(2,0,1)"
   ]
  },
  {
   "cell_type": "code",
   "execution_count": 22,
   "metadata": {},
   "outputs": [
    {
     "name": "stdout",
     "output_type": "stream",
     "text": [
      "(1728, 124, 32)\n",
      "(1728,)\n"
     ]
    }
   ],
   "source": [
    "electrode = []\n",
    "cat_labels = []\n",
    "for i in range(5188):\n",
    "    if(lab[i]==2):\n",
    "        electrode.append(matrix[i])\n",
    "        cat_labels.append(1)\n",
    "    elif(lab[i]==6):\n",
    "        electrode.append(matrix[i])\n",
    "        cat_labels.append(2)\n",
    "electrode = np.array(electrode)\n",
    "cat_labels = np.array(cat_labels)\n",
    "print(electrode.shape)\n",
    "print(cat_labels.shape)"
   ]
  },
  {
   "cell_type": "code",
   "execution_count": 23,
   "metadata": {},
   "outputs": [],
   "source": [
    "old_matrix = matrix\n",
    "matrix = electrode"
   ]
  },
  {
   "cell_type": "code",
   "execution_count": 24,
   "metadata": {},
   "outputs": [],
   "source": [
    "matrix = np.reshape(matrix,(matrix.shape[0], matrix.shape[1]*matrix.shape[2]))\n",
    "matrix = preprocessing.scale(matrix)"
   ]
  },
  {
   "cell_type": "code",
   "execution_count": 25,
   "metadata": {},
   "outputs": [
    {
     "data": {
      "text/plain": [
       "(1728, 3968)"
      ]
     },
     "execution_count": 25,
     "metadata": {},
     "output_type": "execute_result"
    }
   ],
   "source": [
    "matrix.shape"
   ]
  },
  {
   "cell_type": "code",
   "execution_count": 26,
   "metadata": {},
   "outputs": [
    {
     "name": "stdout",
     "output_type": "stream",
     "text": [
      "(1728,)\n"
     ]
    }
   ],
   "source": [
    "print(cat_labels.shape)"
   ]
  },
  {
   "cell_type": "code",
   "execution_count": 29,
   "metadata": {},
   "outputs": [
    {
     "data": {
      "text/plain": [
       "2"
      ]
     },
     "execution_count": 29,
     "metadata": {},
     "output_type": "execute_result"
    }
   ],
   "source": [
    "np.max(cat_labels)"
   ]
  },
  {
   "cell_type": "code",
   "execution_count": 17,
   "metadata": {},
   "outputs": [
    {
     "name": "stdout",
     "output_type": "stream",
     "text": [
      "0.7424855491329481\n"
     ]
    }
   ],
   "source": [
    "acc = cross_validation(matrix, cat_labels)\n",
    "print(acc)"
   ]
  },
  {
   "cell_type": "code",
   "execution_count": 15,
   "metadata": {},
   "outputs": [],
   "source": [
    "def split_sampling(matrix, cat_labels, k = 0.8):\n",
    "    n = matrix.shape[0]\n",
    "    indices = np.random.permutation(n)\n",
    "    training_idx, test_idx = indices[:int(k*n)], indices[int(k*n):]\n",
    "    #print(int(k*n))\n",
    "    x_train, x_test = matrix[training_idx], matrix[test_idx]\n",
    "    y_train, y_test = cat_labels[training_idx], cat_labels[test_idx]\n",
    "    #print(indices)\n",
    "    x_train = np.reshape(x_train, newshape = (x_train.shape[0],1))\n",
    "    x_test = np.reshape(x_test, newshape = (x_test.shape[0],1))\n",
    "    return x_train, y_train, x_test, y_test"
   ]
  },
  {
   "cell_type": "code",
   "execution_count": 16,
   "metadata": {},
   "outputs": [],
   "source": [
    "def split_sampling2D(matrix, cat_labels, k = 0.8):\n",
    "    n = matrix.shape[0]\n",
    "    indices = np.random.permutation(n)\n",
    "    training_idx, test_idx = indices[:int(k*n)], indices[int(k*n):]\n",
    "    #print(int(k*n))\n",
    "    x_train, x_test = matrix[training_idx,:], matrix[test_idx,:]\n",
    "    y_train, y_test = cat_labels[training_idx], cat_labels[test_idx]\n",
    "    #print(indices)\n",
    "    return x_train, y_train, x_test, y_test"
   ]
  },
  {
   "cell_type": "code",
   "execution_count": 16,
   "metadata": {},
   "outputs": [],
   "source": [
    "def lda_with_shrinkage(x_train, y_train, x_test, y_test):\n",
    "    clf = LDA(solver = 'eigen',shrinkage = True)\n",
    "    clf.fit(x_train, y_train)\n",
    "    pred = clf.predict(x_test)\n",
    "    return accuracy_score(pred,y_test)"
   ]
  },
  {
   "cell_type": "code",
   "execution_count": 14,
   "metadata": {},
   "outputs": [],
   "source": [
    "def cross_validation(matrix, cat_labels, k = 0.8, iterations = 10):\n",
    "    accuracy = []\n",
    "    for i in range(iterations):\n",
    "        if(len(matrix.shape)>1):\n",
    "            x_train, y_train, x_test, y_test = split_sampling2D(matrix, cat_labels)\n",
    "        else:\n",
    "            x_train, y_train, x_test, y_test = split_sampling(matrix, cat_labels)\n",
    "        acc = lda_with_shrinkage(x_train, y_train,x_test, y_test)\n",
    "        accuracy.append(acc)\n",
    "    return np.mean(accuracy)"
   ]
  },
  {
   "cell_type": "code",
   "execution_count": null,
   "metadata": {},
   "outputs": [],
   "source": [
    "linear_clf = svm.SVC(kernel = 'linear',verbose = True)\n",
    "x_train, y_train, x_test, y_test = split_sampling2D(matrix, cat_labels)\n",
    "linear_clf.fit(x_train, y_train)\n",
    "linear_svm_pred = linear_clf.predict(x_test)\n",
    "accuracy_score(linear_svm_pred,y_test)"
   ]
  },
  {
   "cell_type": "code",
   "execution_count": null,
   "metadata": {},
   "outputs": [],
   "source": [
    "electrode = electrode.transpose(1,2,0)\n",
    "sh0 = electrode.shape[0];\n",
    "sh1 = electrode.shape[1];\n",
    "sh2 = electrode.shape[2];\n",
    "acc = [];\n",
    "for l in range(sh0):\n",
    "    temp = []\n",
    "    for k in range(sh1):\n",
    "        x_tr = []; y_tr = [];\n",
    "        for i in range(sh2):\n",
    "            x_tr.append(electrode[l][k][i]);\n",
    "            y_tr.append(cat_labels[i]);\n",
    "        x_tr = np.array(x_tr)\n",
    "        y_tr = np.array(y_tr)\n",
    "        # use x_tr & y_tr to get accuracy and store it in acc_score\n",
    "        #x_train, y_train, x_test, y_test = split_sampling(x_tr, y_tr)\n",
    "        \n",
    "        #print(str(x_train.shape)+\" \"+str(y_train.shape) )\n",
    "        #print(str(x_tr.shape)+\" \" +str(l)+ \" \" + str(k))\n",
    "        #temp.append(lda_with_shrinkage(x_train, y_train,x_test, y_test));\n",
    "        temp.append(cross_validation(x_tr,y_tr))\n",
    "    acc.append(temp);\n",
    "# you have acc as 2D matrix (of size 124*32) with every value denoting accuracy accordingly.\n",
    "# Plot graph of accuracy."
   ]
  },
  {
   "cell_type": "code",
   "execution_count": null,
   "metadata": {},
   "outputs": [],
   "source": [
    "print(acc)"
   ]
  },
  {
   "cell_type": "code",
   "execution_count": null,
   "metadata": {},
   "outputs": [],
   "source": [
    "import matplotlib.pyplot as plt"
   ]
  },
  {
   "cell_type": "code",
   "execution_count": null,
   "metadata": {},
   "outputs": [],
   "source": [
    "plt.hist(acc)"
   ]
  },
  {
   "cell_type": "code",
   "execution_count": null,
   "metadata": {},
   "outputs": [],
   "source": [
    "sh0 = electrode.shape[0];\n",
    "sh1 = electrode.shape[1];\n",
    "sh2 = electrode.shape[2];\n",
    "acc = [];\n",
    "for l in range(sh0):\n",
    "    x_tr = []; y_tr = [];\n",
    "    for i in range(sh2):\n",
    "        temp = [];\n",
    "        for k in range(sh1):\n",
    "            temp.append(electrode[l][k][i]);\n",
    "        x_tr.append(temp);\n",
    "        y_tr.append(cat_labels[i])\n",
    "    x_tr = np.array(x_tr)\n",
    "    y_tr = np.array(y_tr)\n",
    "    # use x_tr & y_tr to get accuracy and store it in acc_score\n",
    "    #x_train, y_train, x_test, y_test = split_sampling2D(x_tr, y_tr)\n",
    "    acc_score = cross_validation(x_tr, y_tr)#lda_with_shrinkage(x_train, y_train, x_test, y_test)\n",
    "    acc.append(acc_score);\n",
    "# you have acc as 2D matrix (of size 124) with every value denoting accuracy accordingly.\n",
    "# Plot graph of accuracy."
   ]
  },
  {
   "cell_type": "code",
   "execution_count": null,
   "metadata": {},
   "outputs": [],
   "source": [
    "plt.hist(acc, bins = 124)"
   ]
  },
  {
   "cell_type": "code",
   "execution_count": null,
   "metadata": {},
   "outputs": [],
   "source": [
    "print(acc)"
   ]
  },
  {
   "cell_type": "code",
   "execution_count": null,
   "metadata": {},
   "outputs": [],
   "source": [
    "sh0 = electrode.shape[0];\n",
    "sh1 = electrode.shape[1];\n",
    "sh2 = electrode.shape[2];\n",
    "acc = [];\n",
    "for k in range(sh1):\n",
    "    x_tr = []; y_tr = [];\n",
    "    for i in range(sh2):\n",
    "        temp = [];\n",
    "        for l in range(sh0):\n",
    "            temp.append(electrode[l][k][i]);\n",
    "        x_tr.append(temp);\n",
    "        y_tr.append(cat_labels[i]);\n",
    "    x_tr = np.array(x_tr)\n",
    "    y_tr = np.array(y_tr)\n",
    "    # use x_tr & y_tr to get accuracy and store it in acc_score\n",
    "    #x_train, y_train, x_test, y_test = split_sampling2D(x_tr, y_tr)\n",
    "    acc_score = cross_validation(matrix = x_tr, cat_labels = y_tr) #lda_with_shrinkage(x_train, y_train, x_test, y_test)\n",
    "    # use x_tr & y_tr to get accuracy and store it in acc_score\n",
    "    acc.append(acc_score);\n",
    "# you have acc as 2D matrix (of size 32) with every value denoting accuracy accordingly.\n",
    "# Plot graph of accuracy.\n"
   ]
  },
  {
   "cell_type": "code",
   "execution_count": null,
   "metadata": {},
   "outputs": [],
   "source": [
    "print(acc)\n",
    "plt.hist(acc, bins = 32)"
   ]
  },
  {
   "cell_type": "code",
   "execution_count": 47,
   "metadata": {},
   "outputs": [],
   "source": [
    "count = 0;\n",
    "for i in range(len(cat_labels)):\n",
    "    if(cat_labels[i]==1):\n",
    "        count+=1"
   ]
  },
  {
   "cell_type": "code",
   "execution_count": 49,
   "metadata": {},
   "outputs": [
    {
     "data": {
      "text/plain": [
       "(1728,)"
      ]
     },
     "execution_count": 49,
     "metadata": {},
     "output_type": "execute_result"
    }
   ],
   "source": [
    "cat_labels.shape"
   ]
  },
  {
   "cell_type": "code",
   "execution_count": null,
   "metadata": {},
   "outputs": [],
   "source": [
    "plt.plot(acc)"
   ]
  },
  {
   "cell_type": "code",
   "execution_count": 56,
   "metadata": {},
   "outputs": [],
   "source": [
    "class_wise_xtrain = separate_by_class(matrix , cat_labels)"
   ]
  },
  {
   "cell_type": "code",
   "execution_count": 14,
   "metadata": {},
   "outputs": [
    {
     "name": "stdout",
     "output_type": "stream",
     "text": [
      "(5,)\n"
     ]
    }
   ],
   "source": [
    "print(np.array(class_wise_xtrain).shape)"
   ]
  },
  {
   "cell_type": "code",
   "execution_count": 30,
   "metadata": {},
   "outputs": [],
   "source": [
    "augmented_xtrain, augmented_ytrain, augmented_xtest, augmented_ytest = augment(matrix, cat_labels, with_replacement=False)"
   ]
  },
  {
   "cell_type": "code",
   "execution_count": 31,
   "metadata": {},
   "outputs": [
    {
     "name": "stdout",
     "output_type": "stream",
     "text": [
      "(344, 3968) (344,) (86, 3968) (86,)\n"
     ]
    }
   ],
   "source": [
    "print(augmented_xtrain.shape,\n",
    "augmented_ytrain.shape,\n",
    "augmented_xtest.shape,\n",
    "augmented_ytest.shape)"
   ]
  },
  {
   "cell_type": "code",
   "execution_count": 58,
   "metadata": {},
   "outputs": [
    {
     "data": {
      "text/plain": [
       "(864, 3968)"
      ]
     },
     "execution_count": 58,
     "metadata": {},
     "output_type": "execute_result"
    }
   ],
   "source": [
    "class_wise_xtrain[0].shape"
   ]
  },
  {
   "cell_type": "code",
   "execution_count": 59,
   "metadata": {},
   "outputs": [
    {
     "data": {
      "text/plain": [
       "(864, 3968)"
      ]
     },
     "execution_count": 59,
     "metadata": {},
     "output_type": "execute_result"
    }
   ],
   "source": [
    "class_wise_xtrain[1].shape"
   ]
  },
  {
   "cell_type": "code",
   "execution_count": 32,
   "metadata": {},
   "outputs": [],
   "source": [
    "acc1 = cross_validation_with_augmentation(matrix,cat_labels,sample_size = 2, with_replacement = True, k = 0.6, niter = 10)"
   ]
  },
  {
   "cell_type": "code",
   "execution_count": 33,
   "metadata": {},
   "outputs": [
    {
     "data": {
      "text/plain": [
       "0.8291907514450868"
      ]
     },
     "execution_count": 33,
     "metadata": {},
     "output_type": "execute_result"
    }
   ],
   "source": [
    "acc1"
   ]
  },
  {
   "cell_type": "code",
   "execution_count": 34,
   "metadata": {},
   "outputs": [],
   "source": [
    "sam_sizes = [2,4,6,8]\n",
    "acc_mat = []\n",
    "for size in sam_sizes:\n",
    "    acc1 = cross_validation_with_augmentation(matrix,cat_labels,sample_size = size, with_replacement = True, k = 0.8, niter = 10)\n",
    "    acc2 = cross_validation_with_augmentation(matrix,cat_labels,sample_size = size, with_replacement = False, k = 0.8, niter = 10)\n",
    "    acc_mat.append([acc1,acc2])"
   ]
  },
  {
   "cell_type": "code",
   "execution_count": 35,
   "metadata": {},
   "outputs": [
    {
     "data": {
      "text/plain": [
       "[[0.8286127167630057, 0.8211755612313484],\n",
       " [0.9193641618497109, 0.8858002735978111],\n",
       " [0.9549132947976879, 0.9368421052631579],\n",
       " [0.9641618497109826, 0.9601328903654485]]"
      ]
     },
     "execution_count": 35,
     "metadata": {},
     "output_type": "execute_result"
    }
   ],
   "source": [
    "acc_mat"
   ]
  },
  {
   "cell_type": "code",
   "execution_count": null,
   "metadata": {},
   "outputs": [],
   "source": []
  }
 ],
 "metadata": {
  "kernelspec": {
   "display_name": "Python 3",
   "language": "python",
   "name": "python3"
  },
  "language_info": {
   "codemirror_mode": {
    "name": "ipython",
    "version": 3
   },
   "file_extension": ".py",
   "mimetype": "text/x-python",
   "name": "python",
   "nbconvert_exporter": "python",
   "pygments_lexer": "ipython3",
   "version": "3.6.5"
  }
 },
 "nbformat": 4,
 "nbformat_minor": 2
}
