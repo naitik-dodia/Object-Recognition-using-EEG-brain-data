{
 "cells": [
  {
   "cell_type": "code",
   "execution_count": 1,
   "metadata": {},
   "outputs": [],
   "source": [
    "import numpy as np\n",
    "import scipy.io as sp"
   ]
  },
  {
   "cell_type": "code",
   "execution_count": 2,
   "metadata": {},
   "outputs": [],
   "source": [
    "data = sp.loadmat('S1.mat')"
   ]
  },
  {
   "cell_type": "code",
   "execution_count": 13,
   "metadata": {},
   "outputs": [],
   "source": [
    "dat_2d = data['X_2D']\n",
    "matrix = data['X_3D'].transpose(2,0,1)"
   ]
  },
  {
   "cell_type": "code",
   "execution_count": 14,
   "metadata": {},
   "outputs": [
    {
     "name": "stdout",
     "output_type": "stream",
     "text": [
      "(5188, 124, 32)\n"
     ]
    }
   ],
   "source": [
    "print(matrix.shape)"
   ]
  },
  {
   "cell_type": "code",
   "execution_count": 17,
   "metadata": {},
   "outputs": [
    {
     "name": "stdout",
     "output_type": "stream",
     "text": [
      "[4 6 3 ... 5 1 1]\n"
     ]
    }
   ],
   "source": [
    "lab = data['categoryLabels'].transpose()\n",
    "lab = np.reshape(lab, (lab.shape[0]*lab.shape[1]))\n",
    "print(lab)"
   ]
  },
  {
   "cell_type": "code",
   "execution_count": 22,
   "metadata": {},
   "outputs": [
    {
     "name": "stdout",
     "output_type": "stream",
     "text": [
      "(1728, 124, 32)\n",
      "(1728,)\n"
     ]
    }
   ],
   "source": [
    "electrode = []\n",
    "cat_labels = []\n",
    "for i in range(5188):\n",
    "    if(lab[i]==2):\n",
    "        electrode.append(matrix[i])\n",
    "        cat_labels.append(lab[i])\n",
    "    elif(lab[i]==6):\n",
    "        electrode.append(matrix[i])\n",
    "        cat_labels.append(lab[i])\n",
    "electrode = np.array(electrode)\n",
    "cat_labels = np.array(cat_labels)\n",
    "print(electrode.shape)\n",
    "print(cat_labels.shape)"
   ]
  },
  {
   "cell_type": "code",
   "execution_count": 24,
   "metadata": {},
   "outputs": [],
   "source": [
    "# electrode contains the data of human face with label = 2 and inanimate object with label = 6\n",
    "# cat_labels is its corresponding label\n",
    "matriz = electrode.transpose(1,2,0)\n",
    "cat_labels = cat_labels.transpose()"
   ]
  }
 ],
 "metadata": {
  "kernelspec": {
   "display_name": "Python 2",
   "language": "python",
   "name": "python2"
  },
  "language_info": {
   "codemirror_mode": {
    "name": "ipython",
    "version": 2
   },
   "file_extension": ".py",
   "mimetype": "text/x-python",
   "name": "python",
   "nbconvert_exporter": "python",
   "pygments_lexer": "ipython2",
   "version": "2.7.15rc1"
  }
 },
 "nbformat": 4,
 "nbformat_minor": 2
}
